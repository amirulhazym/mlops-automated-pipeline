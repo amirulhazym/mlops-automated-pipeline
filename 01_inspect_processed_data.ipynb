{
 "cells": [
  {
   "cell_type": "code",
   "execution_count": 2,
   "id": "b999ab04-11f7-4458-abbe-529edb35e4fd",
   "metadata": {},
   "outputs": [
    {
     "name": "stdout",
     "output_type": "stream",
     "text": [
      "Inspecting columns in: ./data/processed/engineered_features_full\n",
      "\n",
      "Columns found in the Parquet file:\n",
      "['step', 'isFraud', 'amount_log', 'oldbalanceOrg_log', 'newbalanceOrig_log', 'oldbalanceDest_log', 'newbalanceDest_log', 'type_TRANSFER', 'type_CASH_IN', 'type_CASH_OUT', 'type_PAYMENT', 'type_DEBIT']\n"
     ]
    }
   ],
   "source": [
    "import pandas as pd\n",
    "import os\n",
    "\n",
    "# Define the path to your processed data\n",
    "# The '../' goes up one directory from 'notebooks/' to the project root\n",
    "processed_data_path = \"./data/processed/engineered_features_full\"\n",
    "\n",
    "print(f\"Inspecting columns in: {processed_data_path}\")\n",
    "\n",
    "# Read the Parquet directory into a pandas DataFrame\n",
    "df = pd.read_parquet(processed_data_path)\n",
    "\n",
    "# Print all the column names\n",
    "print(\"\\nColumns found in the Parquet file:\")\n",
    "print(list(df.columns))"
   ]
  },
  {
   "cell_type": "code",
   "execution_count": null,
   "id": "6a92f223-ed8b-4286-bb70-f267ccdfd19d",
   "metadata": {},
   "outputs": [],
   "source": []
  }
 ],
 "metadata": {
  "kernelspec": {
   "display_name": "Python 3 (ipykernel)",
   "language": "python",
   "name": "python3"
  },
  "language_info": {
   "codemirror_mode": {
    "name": "ipython",
    "version": 3
   },
   "file_extension": ".py",
   "mimetype": "text/x-python",
   "name": "python",
   "nbconvert_exporter": "python",
   "pygments_lexer": "ipython3",
   "version": "3.11.9"
  }
 },
 "nbformat": 4,
 "nbformat_minor": 5
}
